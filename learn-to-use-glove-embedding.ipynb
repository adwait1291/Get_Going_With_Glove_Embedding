{
 "cells": [
  {
   "cell_type": "code",
   "execution_count": 1,
   "id": "092020f9",
   "metadata": {
    "_cell_guid": "b1076dfc-b9ad-4769-8c92-a6c4dae69d19",
    "_uuid": "8f2839f25d086af736a60e9eeb907d3b93b6e0e5",
    "execution": {
     "iopub.execute_input": "2022-11-20T10:25:02.814567Z",
     "iopub.status.busy": "2022-11-20T10:25:02.813837Z",
     "iopub.status.idle": "2022-11-20T10:25:10.685184Z",
     "shell.execute_reply": "2022-11-20T10:25:10.683813Z"
    },
    "papermill": {
     "duration": 7.887012,
     "end_time": "2022-11-20T10:25:10.688442",
     "exception": false,
     "start_time": "2022-11-20T10:25:02.801430",
     "status": "completed"
    },
    "tags": []
   },
   "outputs": [],
   "source": [
    "import numpy as np\n",
    "import pandas as pd\n",
    "from tqdm import tqdm\n",
    "\n",
    "import tensorflow as tf\n",
    "from tensorflow.keras import Sequential\n",
    "from tensorflow.keras.layers import Dense, Dropout, Bidirectional, LSTM, GlobalMaxPool1D, Embedding\n",
    "from tensorflow.keras.preprocessing.text import Tokenizer\n",
    "from tensorflow.keras.preprocessing.sequence import pad_sequences\n",
    "\n",
    "from sklearn.metrics import classification_report\n",
    "from sklearn.model_selection import train_test_split\n",
    "from sklearn.preprocessing import LabelEncoder\n"
   ]
  },
  {
   "cell_type": "markdown",
   "id": "4aeffe84",
   "metadata": {
    "papermill": {
     "duration": 0.00809,
     "end_time": "2022-11-20T10:25:10.705847",
     "exception": false,
     "start_time": "2022-11-20T10:25:10.697757",
     "status": "completed"
    },
    "tags": []
   },
   "source": [
    "Every time we work with text data, we must represent the text in some mathematical form, otherwise the algorithm won't be able to handle the data. There are many ways to do this transformation, and one among them is GloVe embeddings. In this notebook, we will come a step closer to GloVe embedding and apply it to a binary classification problem."
   ]
  },
  {
   "cell_type": "markdown",
   "id": "0c353164",
   "metadata": {
    "papermill": {
     "duration": 0.007965,
     "end_time": "2022-11-20T10:25:10.722311",
     "exception": false,
     "start_time": "2022-11-20T10:25:10.714346",
     "status": "completed"
    },
    "tags": []
   },
   "source": [
    "There are a variety of pre-trained GloVe word embeddings available for download. More information about the training corpus of different Glove embedding can be found on <a href=https://nlp.stanford.edu/projects/glove/> this</a> website. In this notebook, we will use the glovetwitter27b50d embedding, which has 50 dimensions and was trained on 2B tweets from Twitter."
   ]
  },
  {
   "cell_type": "markdown",
   "id": "45161c73",
   "metadata": {
    "papermill": {
     "duration": 0.00794,
     "end_time": "2022-11-20T10:25:10.738713",
     "exception": false,
     "start_time": "2022-11-20T10:25:10.730773",
     "status": "completed"
    },
    "tags": []
   },
   "source": [
    "The embedding is available as a text file where each line has a string containing a word and its vector representation. We will convert the content of this text file into a dictionary."
   ]
  },
  {
   "cell_type": "code",
   "execution_count": 2,
   "id": "69275656",
   "metadata": {
    "execution": {
     "iopub.execute_input": "2022-11-20T10:25:10.761089Z",
     "iopub.status.busy": "2022-11-20T10:25:10.759448Z",
     "iopub.status.idle": "2022-11-20T10:25:19.945270Z",
     "shell.execute_reply": "2022-11-20T10:25:19.944311Z"
    },
    "papermill": {
     "duration": 9.198663,
     "end_time": "2022-11-20T10:25:19.947964",
     "exception": false,
     "start_time": "2022-11-20T10:25:10.749301",
     "status": "completed"
    },
    "tags": []
   },
   "outputs": [],
   "source": [
    "# Read the text file\n",
    "glovetwitter27b50d = \"../input/glovetwitter27b50dtxt/glove.twitter.27B.50d.txt\"\n",
    "file = open(glovetwitter27b50d)\n",
    "glovetwitter27b50d = file.readlines()"
   ]
  },
  {
   "cell_type": "code",
   "execution_count": 3,
   "id": "3f8e5ec9",
   "metadata": {
    "execution": {
     "iopub.execute_input": "2022-11-20T10:25:19.967234Z",
     "iopub.status.busy": "2022-11-20T10:25:19.966811Z",
     "iopub.status.idle": "2022-11-20T10:25:44.664942Z",
     "shell.execute_reply": "2022-11-20T10:25:44.663946Z"
    },
    "papermill": {
     "duration": 24.710526,
     "end_time": "2022-11-20T10:25:44.667277",
     "exception": false,
     "start_time": "2022-11-20T10:25:19.956751",
     "status": "completed"
    },
    "tags": []
   },
   "outputs": [
    {
     "name": "stderr",
     "output_type": "stream",
     "text": [
      "100%|██████████| 1193514/1193514 [00:24<00:00, 48351.30it/s]\n"
     ]
    }
   ],
   "source": [
    "# Convert the text file into a dictionary\n",
    "def ConvertToEmbeddingDictionary(glovetwitter27b50d):\n",
    "    embedding_dictionary = {}\n",
    "    for word_embedding in tqdm(glovetwitter27b50d):\n",
    "        word_embedding = word_embedding.split()\n",
    "        word = word_embedding[0]\n",
    "        embedding = np.array([float(i) for i in word_embedding[1:]])\n",
    "        embedding_dictionary[word] = embedding\n",
    "    return embedding_dictionary\n",
    "embedding_dictionary = ConvertToEmbeddingDictionary(glovetwitter27b50d)"
   ]
  },
  {
   "cell_type": "code",
   "execution_count": 4,
   "id": "4c9dda80",
   "metadata": {
    "execution": {
     "iopub.execute_input": "2022-11-20T10:25:44.716121Z",
     "iopub.status.busy": "2022-11-20T10:25:44.715473Z",
     "iopub.status.idle": "2022-11-20T10:25:44.767717Z",
     "shell.execute_reply": "2022-11-20T10:25:44.766580Z"
    },
    "papermill": {
     "duration": 0.079013,
     "end_time": "2022-11-20T10:25:44.769976",
     "exception": false,
     "start_time": "2022-11-20T10:25:44.690963",
     "status": "completed"
    },
    "tags": []
   },
   "outputs": [
    {
     "data": {
      "text/plain": [
       "array([ 0.28751  ,  0.31323  , -0.29318  ,  0.17199  , -0.69232  ,\n",
       "       -0.4593   ,  1.3364   ,  0.709    ,  0.12118  ,  0.11476  ,\n",
       "       -0.48505  , -0.088608 , -3.0154   , -0.54024  , -1.326    ,\n",
       "        0.39477  ,  0.11755  , -0.17816  , -0.32272  ,  0.21715  ,\n",
       "        0.043144 , -0.43666  , -0.55857  , -0.47601  , -0.095172 ,\n",
       "        0.0031934,  0.1192   , -0.23643  ,  1.3234   , -0.45093  ,\n",
       "       -0.65837  , -0.13865  ,  0.22145  , -0.35806  ,  0.20988  ,\n",
       "        0.054894 , -0.080322 ,  0.48942  ,  0.19206  ,  0.4556   ,\n",
       "       -1.642    , -0.83323  , -0.12974  ,  0.96514  , -0.18214  ,\n",
       "        0.37733  , -0.19622  , -0.12231  , -0.10496  ,  0.45388  ])"
      ]
     },
     "execution_count": 4,
     "metadata": {},
     "output_type": "execute_result"
    }
   ],
   "source": [
    "# Let's look at the embedding of the word \"hello.\"\n",
    "embedding_dictionary['hello']"
   ]
  },
  {
   "cell_type": "markdown",
   "id": "999373be",
   "metadata": {
    "papermill": {
     "duration": 0.023289,
     "end_time": "2022-11-20T10:25:44.817472",
     "exception": false,
     "start_time": "2022-11-20T10:25:44.794183",
     "status": "completed"
    },
    "tags": []
   },
   "source": [
    "We will use the below sample corpus to learn how to transform any text dataset using GloVe embedding."
   ]
  },
  {
   "cell_type": "code",
   "execution_count": 5,
   "id": "4d5fa273",
   "metadata": {
    "execution": {
     "iopub.execute_input": "2022-11-20T10:25:44.867165Z",
     "iopub.status.busy": "2022-11-20T10:25:44.866744Z",
     "iopub.status.idle": "2022-11-20T10:25:44.871330Z",
     "shell.execute_reply": "2022-11-20T10:25:44.870432Z"
    },
    "papermill": {
     "duration": 0.032323,
     "end_time": "2022-11-20T10:25:44.873358",
     "exception": false,
     "start_time": "2022-11-20T10:25:44.841035",
     "status": "completed"
    },
    "tags": []
   },
   "outputs": [],
   "source": [
    "sample_corpus = ['The woods are lovely, dark and deep',\n",
    "                 'But I have promises to keep',   \n",
    "                 'And miles to go before I sleep', \n",
    "                 'And miles to go before I sleep']"
   ]
  },
  {
   "cell_type": "code",
   "execution_count": 6,
   "id": "e6146b6a",
   "metadata": {
    "execution": {
     "iopub.execute_input": "2022-11-20T10:25:44.922886Z",
     "iopub.status.busy": "2022-11-20T10:25:44.922465Z",
     "iopub.status.idle": "2022-11-20T10:25:44.927145Z",
     "shell.execute_reply": "2022-11-20T10:25:44.926260Z"
    },
    "papermill": {
     "duration": 0.032493,
     "end_time": "2022-11-20T10:25:44.929468",
     "exception": false,
     "start_time": "2022-11-20T10:25:44.896975",
     "status": "completed"
    },
    "tags": []
   },
   "outputs": [],
   "source": [
    "# This is the maximum number of tokens we wish to consider from our dataset.\n",
    "# When there are more tokens, the tokens with the highest frequency are chosen.\n",
    "max_number_of_words = 5"
   ]
  },
  {
   "cell_type": "markdown",
   "id": "49f3800f",
   "metadata": {
    "papermill": {
     "duration": 0.023281,
     "end_time": "2022-11-20T10:25:44.976788",
     "exception": false,
     "start_time": "2022-11-20T10:25:44.953507",
     "status": "completed"
    },
    "tags": []
   },
   "source": [
    "We will use the Keras tokenizer to extract the tokens from our data. Tokenizer assigns an index to each token, and we can convert any text to a sequence of indices using the texts_to_sequences function."
   ]
  },
  {
   "cell_type": "code",
   "execution_count": 7,
   "id": "9f51cca3",
   "metadata": {
    "execution": {
     "iopub.execute_input": "2022-11-20T10:25:45.026146Z",
     "iopub.status.busy": "2022-11-20T10:25:45.025727Z",
     "iopub.status.idle": "2022-11-20T10:25:45.031523Z",
     "shell.execute_reply": "2022-11-20T10:25:45.030635Z"
    },
    "papermill": {
     "duration": 0.033035,
     "end_time": "2022-11-20T10:25:45.033623",
     "exception": false,
     "start_time": "2022-11-20T10:25:45.000588",
     "status": "completed"
    },
    "tags": []
   },
   "outputs": [
    {
     "name": "stdout",
     "output_type": "stream",
     "text": [
      "{'and': 1, 'i': 2, 'to': 3, 'miles': 4, 'go': 5, 'before': 6, 'sleep': 7, 'the': 8, 'woods': 9, 'are': 10, 'lovely': 11, 'dark': 12, 'deep': 13, 'but': 14, 'have': 15, 'promises': 16, 'keep': 17}\n"
     ]
    }
   ],
   "source": [
    "# Note: Keras tokenizer selects only top n-1 tokens if the num_words is set to n\n",
    "tokenizer = Tokenizer(num_words=max_number_of_words)\n",
    "tokenizer.fit_on_texts(sample_corpus)\n",
    "sample_corpus_tokenized = tokenizer.texts_to_sequences(sample_corpus)\n",
    "print(tokenizer.word_index)"
   ]
  },
  {
   "cell_type": "markdown",
   "id": "e434b04b",
   "metadata": {
    "papermill": {
     "duration": 0.023105,
     "end_time": "2022-11-20T10:25:45.080090",
     "exception": false,
     "start_time": "2022-11-20T10:25:45.056985",
     "status": "completed"
    },
    "tags": []
   },
   "source": [
    "The below sentence is converted to a list of two tokens because we had set the maximum number of tokens to 5. The indices of tokens 'i' and 'to' are selected because they are among the top 4 frequently occurring tokens."
   ]
  },
  {
   "cell_type": "code",
   "execution_count": 8,
   "id": "a6b20b04",
   "metadata": {
    "execution": {
     "iopub.execute_input": "2022-11-20T10:25:45.129768Z",
     "iopub.status.busy": "2022-11-20T10:25:45.129305Z",
     "iopub.status.idle": "2022-11-20T10:25:45.136178Z",
     "shell.execute_reply": "2022-11-20T10:25:45.134772Z"
    },
    "papermill": {
     "duration": 0.034635,
     "end_time": "2022-11-20T10:25:45.138451",
     "exception": false,
     "start_time": "2022-11-20T10:25:45.103816",
     "status": "completed"
    },
    "tags": []
   },
   "outputs": [
    {
     "name": "stdout",
     "output_type": "stream",
     "text": [
      "But I have promises to keep:  [2, 3]\n"
     ]
    }
   ],
   "source": [
    "print(\"But I have promises to keep: \", sample_corpus_tokenized[1])"
   ]
  },
  {
   "cell_type": "markdown",
   "id": "91309961",
   "metadata": {
    "papermill": {
     "duration": 0.024008,
     "end_time": "2022-11-20T10:25:45.187433",
     "exception": false,
     "start_time": "2022-11-20T10:25:45.163425",
     "status": "completed"
    },
    "tags": []
   },
   "source": [
    "Now that we have chosen a set of tokens from our text corpus, we must develop an embedding matrix for them. The embedding matrix will have columns equal to the embedding's dimension and rows equal to the number of tokens."
   ]
  },
  {
   "cell_type": "code",
   "execution_count": 9,
   "id": "0cb4100c",
   "metadata": {
    "execution": {
     "iopub.execute_input": "2022-11-20T10:25:45.237864Z",
     "iopub.status.busy": "2022-11-20T10:25:45.237414Z",
     "iopub.status.idle": "2022-11-20T10:25:45.244461Z",
     "shell.execute_reply": "2022-11-20T10:25:45.243235Z"
    },
    "papermill": {
     "duration": 0.035139,
     "end_time": "2022-11-20T10:25:45.246657",
     "exception": false,
     "start_time": "2022-11-20T10:25:45.211518",
     "status": "completed"
    },
    "tags": []
   },
   "outputs": [],
   "source": [
    "total_number_of_words = min(max_number_of_words, len(tokenizer.word_index))\n",
    "embedding_matrix = np.zeros((total_number_of_words,50))\n",
    "for word, i in tokenizer.word_index.items():\n",
    "    if i >= total_number_of_words: break\n",
    "    if word in embedding_dictionary.keys():\n",
    "        embedding_vector = embedding_dictionary[word]\n",
    "        embedding_matrix[i] = embedding_vector"
   ]
  },
  {
   "cell_type": "code",
   "execution_count": 10,
   "id": "c2e8d640",
   "metadata": {
    "execution": {
     "iopub.execute_input": "2022-11-20T10:25:45.297291Z",
     "iopub.status.busy": "2022-11-20T10:25:45.296845Z",
     "iopub.status.idle": "2022-11-20T10:25:45.305028Z",
     "shell.execute_reply": "2022-11-20T10:25:45.303959Z"
    },
    "papermill": {
     "duration": 0.036742,
     "end_time": "2022-11-20T10:25:45.307860",
     "exception": false,
     "start_time": "2022-11-20T10:25:45.271118",
     "status": "completed"
    },
    "tags": []
   },
   "outputs": [
    {
     "name": "stdout",
     "output_type": "stream",
     "text": [
      "[[ 0.0000e+00  0.0000e+00  0.0000e+00  0.0000e+00  0.0000e+00  0.0000e+00\n",
      "   0.0000e+00  0.0000e+00  0.0000e+00  0.0000e+00  0.0000e+00  0.0000e+00\n",
      "   0.0000e+00  0.0000e+00  0.0000e+00  0.0000e+00  0.0000e+00  0.0000e+00\n",
      "   0.0000e+00  0.0000e+00  0.0000e+00  0.0000e+00  0.0000e+00  0.0000e+00\n",
      "   0.0000e+00  0.0000e+00  0.0000e+00  0.0000e+00  0.0000e+00  0.0000e+00\n",
      "   0.0000e+00  0.0000e+00  0.0000e+00  0.0000e+00  0.0000e+00  0.0000e+00\n",
      "   0.0000e+00  0.0000e+00  0.0000e+00  0.0000e+00  0.0000e+00  0.0000e+00\n",
      "   0.0000e+00  0.0000e+00  0.0000e+00  0.0000e+00  0.0000e+00  0.0000e+00\n",
      "   0.0000e+00  0.0000e+00]\n",
      " [-4.3196e-01 -1.8965e-01 -2.8294e-02 -2.5903e-01 -4.4810e-01  5.3591e-01\n",
      "   9.4627e-01 -7.8060e-02 -5.4519e-01 -7.2878e-01 -3.0083e-02 -2.8677e-01\n",
      "  -6.4640e+00 -3.1295e-01  1.2351e-01 -2.4630e-01  2.9458e-02 -8.3529e-01\n",
      "   1.9647e-01 -1.5722e-01 -5.5620e-01 -2.7029e-02 -2.3915e-01  1.8188e-01\n",
      "  -1.5156e-01  5.4768e-01  1.3767e-01  2.1828e-01  6.1069e-01 -3.6790e-01\n",
      "   2.3187e-02  3.3281e-01 -1.8062e-01 -9.4163e-03  3.1861e-01 -1.9201e-01\n",
      "   3.5759e-01  5.0104e-01  5.5981e-01  2.0561e-01 -1.1167e+00 -3.0630e-01\n",
      "  -1.4224e-01  2.0285e-01  1.0245e-01 -3.9289e-01 -2.6724e-01 -3.7573e-01\n",
      "   1.6076e-01 -7.4501e-01]\n",
      " [-4.3148e-02  5.0393e-01  2.7095e-01 -1.1980e-01 -5.8991e-01 -3.2774e-01\n",
      "   1.5549e-01 -5.4650e-01  4.1690e-01  1.5267e+00 -4.8707e-01 -9.5806e-02\n",
      "  -5.9675e+00  1.2915e-01 -4.8301e-01 -1.4715e-01  1.2052e-01 -1.9595e-01\n",
      "  -8.6387e-01 -1.7507e-01  4.9240e-01  3.8274e-01  2.9870e-01  1.3115e-01\n",
      "  -1.3744e-01 -2.0918e-01  1.0783e-01 -1.0709e-01  4.1345e-01  1.1004e-01\n",
      "  -4.4554e-01  2.9050e-01 -1.4988e-01  2.9897e-01 -5.0136e-02  4.6923e-01\n",
      "   1.5687e-01 -4.6820e-02 -1.1082e-01  8.7676e-01 -1.6183e+00  5.9109e-01\n",
      "   9.7853e-02  3.2855e-01 -2.7940e-01  7.4711e-02  1.0258e+00 -2.2383e-01\n",
      "  -6.6025e-01 -7.0649e-01]\n",
      " [ 5.4964e-01  3.2752e-02  1.9354e-01 -5.1119e-01 -3.9483e-01 -1.7643e-01\n",
      "   4.9603e-01 -8.9685e-02  2.7531e-01 -1.0332e+00 -8.0488e-01 -5.7278e-01\n",
      "  -6.2888e+00 -1.5977e-01  2.1716e-01 -1.9869e-01 -2.7966e-01 -1.4035e-01\n",
      "  -5.8645e-01 -7.5832e-01  4.0090e-01  3.5394e-01 -2.7532e-01  3.7569e-01\n",
      "  -3.4936e-01 -2.8569e-01  4.9475e-01  7.9527e-01  8.4019e-01  2.9181e-01\n",
      "   1.0009e+00  3.6752e-01 -1.2441e-01 -2.2999e-01  3.7812e-01  2.0780e-01\n",
      "   2.8736e-01 -1.6952e-01 -8.8277e-01 -1.5059e-01 -1.8376e+00  7.1666e-01\n",
      "   2.2428e-01 -3.5486e-01  2.1687e-01 -2.6787e-01 -8.1521e-01  2.1378e-01\n",
      "   2.3067e-01  2.0011e-01]\n",
      " [-5.7285e-01  2.7790e-01  4.3741e-01 -3.0358e-01  1.8636e-01  3.3663e-01\n",
      "   9.0437e-02 -4.2558e-01 -1.1764e+00 -9.2689e-01  9.0890e-01 -7.3730e-02\n",
      "  -3.0162e+00  1.0191e-02  4.3692e-01  9.1427e-01  8.7706e-02 -4.7240e-01\n",
      "   6.9572e-01  3.5358e-01  8.9157e-01 -5.4962e-01 -3.4872e-02 -5.3723e-01\n",
      "  -2.5711e-01 -1.5497e+00 -8.6775e-01 -4.5013e-01 -1.3312e-01  2.2094e-01\n",
      "  -4.7919e-01  3.4644e-01  8.0161e-01  1.5345e+00  5.3703e-01  1.0612e+00\n",
      "   4.2507e-03  5.0476e-01 -8.0819e-01  8.1320e-02 -6.1382e-01  8.4730e-01\n",
      "  -2.3739e-01 -5.5088e-01  8.5288e-02 -2.8734e-01  1.6205e-01 -7.8750e-03\n",
      "  -2.7216e-01  6.2806e-01]]\n"
     ]
    }
   ],
   "source": [
    "print(embedding_matrix)"
   ]
  },
  {
   "cell_type": "markdown",
   "id": "cc09d066",
   "metadata": {
    "papermill": {
     "duration": 0.024132,
     "end_time": "2022-11-20T10:25:45.357590",
     "exception": false,
     "start_time": "2022-11-20T10:25:45.333458",
     "status": "completed"
    },
    "tags": []
   },
   "source": [
    "Artificial neural networks and ML algorithms can't deal with a variable length of inputs, so we need to convert the embeddings of every input sequence to a fixed size. There are many approaches to do this, but the most simple one is to sum the embedding of every token in a sentence and normalize the vector."
   ]
  },
  {
   "cell_type": "code",
   "execution_count": 11,
   "id": "e8df81a1",
   "metadata": {
    "execution": {
     "iopub.execute_input": "2022-11-20T10:25:45.408668Z",
     "iopub.status.busy": "2022-11-20T10:25:45.407696Z",
     "iopub.status.idle": "2022-11-20T10:25:45.413773Z",
     "shell.execute_reply": "2022-11-20T10:25:45.413020Z"
    },
    "papermill": {
     "duration": 0.034267,
     "end_time": "2022-11-20T10:25:45.415881",
     "exception": false,
     "start_time": "2022-11-20T10:25:45.381614",
     "status": "completed"
    },
    "tags": []
   },
   "outputs": [],
   "source": [
    "def convertToSentenceVector(sentences):\n",
    "    new_sentences = []\n",
    "    for sentence in sentences:\n",
    "        sentence_vector = []\n",
    "        for word_index in sentence:\n",
    "            sentence_vector.append(embedding_matrix[word_index])\n",
    "        sentence_vector = np.array(sentence_vector).sum(axis=0)\n",
    "        embedding_vector / np.sqrt((embedding_vector ** 2).sum())\n",
    "        new_sentences.append(sentence_vector)\n",
    "    return new_sentences"
   ]
  },
  {
   "cell_type": "markdown",
   "id": "edbc6a87",
   "metadata": {
    "papermill": {
     "duration": 0.023811,
     "end_time": "2022-11-20T10:25:45.463864",
     "exception": false,
     "start_time": "2022-11-20T10:25:45.440053",
     "status": "completed"
    },
    "tags": []
   },
   "source": [
    "Below is the 50-dimensional embedding of the first sentence in our training corpus."
   ]
  },
  {
   "cell_type": "code",
   "execution_count": 12,
   "id": "7e4c5b15",
   "metadata": {
    "execution": {
     "iopub.execute_input": "2022-11-20T10:25:45.513408Z",
     "iopub.status.busy": "2022-11-20T10:25:45.512977Z",
     "iopub.status.idle": "2022-11-20T10:25:45.518816Z",
     "shell.execute_reply": "2022-11-20T10:25:45.518003Z"
    },
    "papermill": {
     "duration": 0.033297,
     "end_time": "2022-11-20T10:25:45.521071",
     "exception": false,
     "start_time": "2022-11-20T10:25:45.487774",
     "status": "completed"
    },
    "tags": []
   },
   "outputs": [
    {
     "name": "stdout",
     "output_type": "stream",
     "text": [
      "[-0.43196   -0.18965   -0.028294  -0.25903   -0.4481     0.53591\n",
      "  0.94627   -0.07806   -0.54519   -0.72878   -0.030083  -0.28677\n",
      " -6.464     -0.31295    0.12351   -0.2463     0.029458  -0.83529\n",
      "  0.19647   -0.15722   -0.5562    -0.027029  -0.23915    0.18188\n",
      " -0.15156    0.54768    0.13767    0.21828    0.61069   -0.3679\n",
      "  0.023187   0.33281   -0.18062   -0.0094163  0.31861   -0.19201\n",
      "  0.35759    0.50104    0.55981    0.20561   -1.1167    -0.3063\n",
      " -0.14224    0.20285    0.10245   -0.39289   -0.26724   -0.37573\n",
      "  0.16076   -0.74501  ]\n"
     ]
    }
   ],
   "source": [
    "sample_corpus_vectorized = convertToSentenceVector(sample_corpus_tokenized)\n",
    "print(sample_corpus_vectorized[0])"
   ]
  },
  {
   "cell_type": "markdown",
   "id": "23bb5a8c",
   "metadata": {
    "papermill": {
     "duration": 0.023717,
     "end_time": "2022-11-20T10:25:45.569164",
     "exception": false,
     "start_time": "2022-11-20T10:25:45.545447",
     "status": "completed"
    },
    "tags": []
   },
   "source": [
    "## Sentiment Classification: IMDB Movie Reviews Dataset"
   ]
  },
  {
   "cell_type": "markdown",
   "id": "98ada097",
   "metadata": {
    "papermill": {
     "duration": 0.023668,
     "end_time": "2022-11-20T10:25:45.617154",
     "exception": false,
     "start_time": "2022-11-20T10:25:45.593486",
     "status": "completed"
    },
    "tags": []
   },
   "source": [
    "Now we can perform the steps discussed above to get the embeddings for this dataset."
   ]
  },
  {
   "cell_type": "code",
   "execution_count": 13,
   "id": "c6e4e0e5",
   "metadata": {
    "execution": {
     "iopub.execute_input": "2022-11-20T10:25:45.668544Z",
     "iopub.status.busy": "2022-11-20T10:25:45.668098Z",
     "iopub.status.idle": "2022-11-20T10:25:47.328403Z",
     "shell.execute_reply": "2022-11-20T10:25:47.327051Z"
    },
    "papermill": {
     "duration": 1.689733,
     "end_time": "2022-11-20T10:25:47.331326",
     "exception": false,
     "start_time": "2022-11-20T10:25:45.641593",
     "status": "completed"
    },
    "tags": []
   },
   "outputs": [
    {
     "data": {
      "text/html": [
       "<div>\n",
       "<style scoped>\n",
       "    .dataframe tbody tr th:only-of-type {\n",
       "        vertical-align: middle;\n",
       "    }\n",
       "\n",
       "    .dataframe tbody tr th {\n",
       "        vertical-align: top;\n",
       "    }\n",
       "\n",
       "    .dataframe thead th {\n",
       "        text-align: right;\n",
       "    }\n",
       "</style>\n",
       "<table border=\"1\" class=\"dataframe\">\n",
       "  <thead>\n",
       "    <tr style=\"text-align: right;\">\n",
       "      <th></th>\n",
       "      <th>review</th>\n",
       "      <th>sentiment</th>\n",
       "    </tr>\n",
       "  </thead>\n",
       "  <tbody>\n",
       "    <tr>\n",
       "      <th>0</th>\n",
       "      <td>One of the other reviewers has mentioned that ...</td>\n",
       "      <td>positive</td>\n",
       "    </tr>\n",
       "    <tr>\n",
       "      <th>1</th>\n",
       "      <td>A wonderful little production. &lt;br /&gt;&lt;br /&gt;The...</td>\n",
       "      <td>positive</td>\n",
       "    </tr>\n",
       "    <tr>\n",
       "      <th>2</th>\n",
       "      <td>I thought this was a wonderful way to spend ti...</td>\n",
       "      <td>positive</td>\n",
       "    </tr>\n",
       "    <tr>\n",
       "      <th>3</th>\n",
       "      <td>Basically there's a family where a little boy ...</td>\n",
       "      <td>negative</td>\n",
       "    </tr>\n",
       "    <tr>\n",
       "      <th>4</th>\n",
       "      <td>Petter Mattei's \"Love in the Time of Money\" is...</td>\n",
       "      <td>positive</td>\n",
       "    </tr>\n",
       "  </tbody>\n",
       "</table>\n",
       "</div>"
      ],
      "text/plain": [
       "                                              review sentiment\n",
       "0  One of the other reviewers has mentioned that ...  positive\n",
       "1  A wonderful little production. <br /><br />The...  positive\n",
       "2  I thought this was a wonderful way to spend ti...  positive\n",
       "3  Basically there's a family where a little boy ...  negative\n",
       "4  Petter Mattei's \"Love in the Time of Money\" is...  positive"
      ]
     },
     "execution_count": 13,
     "metadata": {},
     "output_type": "execute_result"
    }
   ],
   "source": [
    "df = pd.read_csv(\"../input/imdb-dataset-of-50k-movie-reviews/IMDB Dataset.csv\")\n",
    "df.head()"
   ]
  },
  {
   "cell_type": "code",
   "execution_count": 14,
   "id": "9a4b197c",
   "metadata": {
    "execution": {
     "iopub.execute_input": "2022-11-20T10:25:47.382303Z",
     "iopub.status.busy": "2022-11-20T10:25:47.381836Z",
     "iopub.status.idle": "2022-11-20T10:25:47.391596Z",
     "shell.execute_reply": "2022-11-20T10:25:47.390377Z"
    },
    "papermill": {
     "duration": 0.037797,
     "end_time": "2022-11-20T10:25:47.393832",
     "exception": false,
     "start_time": "2022-11-20T10:25:47.356035",
     "status": "completed"
    },
    "tags": []
   },
   "outputs": [],
   "source": [
    "X = df['review']\n",
    "y = df['sentiment']"
   ]
  },
  {
   "cell_type": "code",
   "execution_count": 15,
   "id": "03aa94ad",
   "metadata": {
    "execution": {
     "iopub.execute_input": "2022-11-20T10:25:47.445432Z",
     "iopub.status.busy": "2022-11-20T10:25:47.444755Z",
     "iopub.status.idle": "2022-11-20T10:25:47.464454Z",
     "shell.execute_reply": "2022-11-20T10:25:47.463263Z"
    },
    "papermill": {
     "duration": 0.04805,
     "end_time": "2022-11-20T10:25:47.466946",
     "exception": false,
     "start_time": "2022-11-20T10:25:47.418896",
     "status": "completed"
    },
    "tags": []
   },
   "outputs": [
    {
     "data": {
      "text/plain": [
       "array(['negative', 'positive'], dtype=object)"
      ]
     },
     "execution_count": 15,
     "metadata": {},
     "output_type": "execute_result"
    }
   ],
   "source": [
    "le = LabelEncoder()\n",
    "y = le.fit_transform(y)\n",
    "le.classes_"
   ]
  },
  {
   "cell_type": "code",
   "execution_count": 16,
   "id": "93b49851",
   "metadata": {
    "execution": {
     "iopub.execute_input": "2022-11-20T10:25:47.519739Z",
     "iopub.status.busy": "2022-11-20T10:25:47.518294Z",
     "iopub.status.idle": "2022-11-20T10:25:47.533760Z",
     "shell.execute_reply": "2022-11-20T10:25:47.532897Z"
    },
    "papermill": {
     "duration": 0.044175,
     "end_time": "2022-11-20T10:25:47.536185",
     "exception": false,
     "start_time": "2022-11-20T10:25:47.492010",
     "status": "completed"
    },
    "tags": []
   },
   "outputs": [],
   "source": [
    "X_train, X_test, y_train, y_test = train_test_split(X, y, test_size=0.10, random_state=0)"
   ]
  },
  {
   "cell_type": "code",
   "execution_count": 17,
   "id": "013b39f6",
   "metadata": {
    "execution": {
     "iopub.execute_input": "2022-11-20T10:25:47.588821Z",
     "iopub.status.busy": "2022-11-20T10:25:47.588317Z",
     "iopub.status.idle": "2022-11-20T10:25:47.593479Z",
     "shell.execute_reply": "2022-11-20T10:25:47.592234Z"
    },
    "papermill": {
     "duration": 0.035194,
     "end_time": "2022-11-20T10:25:47.595890",
     "exception": false,
     "start_time": "2022-11-20T10:25:47.560696",
     "status": "completed"
    },
    "tags": []
   },
   "outputs": [],
   "source": [
    "#set the maximum number of tokens to 50000\n",
    "max_number_of_words = 50000"
   ]
  },
  {
   "cell_type": "code",
   "execution_count": 18,
   "id": "28407e11",
   "metadata": {
    "execution": {
     "iopub.execute_input": "2022-11-20T10:25:47.647034Z",
     "iopub.status.busy": "2022-11-20T10:25:47.646539Z",
     "iopub.status.idle": "2022-11-20T10:26:06.476832Z",
     "shell.execute_reply": "2022-11-20T10:26:06.475766Z"
    },
    "papermill": {
     "duration": 18.859387,
     "end_time": "2022-11-20T10:26:06.479683",
     "exception": false,
     "start_time": "2022-11-20T10:25:47.620296",
     "status": "completed"
    },
    "tags": []
   },
   "outputs": [],
   "source": [
    "tokenizer = Tokenizer(num_words=max_number_of_words)\n",
    "tokenizer.fit_on_texts(X_train)\n",
    "X_train = tokenizer.texts_to_sequences(X_train)\n",
    "X_test = tokenizer.texts_to_sequences(X_test)"
   ]
  },
  {
   "cell_type": "code",
   "execution_count": 19,
   "id": "5e05e3b9",
   "metadata": {
    "execution": {
     "iopub.execute_input": "2022-11-20T10:26:06.530623Z",
     "iopub.status.busy": "2022-11-20T10:26:06.530190Z",
     "iopub.status.idle": "2022-11-20T10:26:06.647717Z",
     "shell.execute_reply": "2022-11-20T10:26:06.646518Z"
    },
    "papermill": {
     "duration": 0.146234,
     "end_time": "2022-11-20T10:26:06.650602",
     "exception": false,
     "start_time": "2022-11-20T10:26:06.504368",
     "status": "completed"
    },
    "tags": []
   },
   "outputs": [],
   "source": [
    "total_number_of_words = min(max_number_of_words, len(tokenizer.word_index))\n",
    "embedding_matrix = np.zeros((total_number_of_words+1,50))\n",
    "for word, i in tokenizer.word_index.items():\n",
    "    if i >= total_number_of_words: break\n",
    "    if word in embedding_dictionary.keys():\n",
    "        embedding_vector = embedding_dictionary[word]\n",
    "        embedding_matrix[i] = embedding_vector"
   ]
  },
  {
   "cell_type": "code",
   "execution_count": 20,
   "id": "7eaf76ff",
   "metadata": {
    "execution": {
     "iopub.execute_input": "2022-11-20T10:26:06.702566Z",
     "iopub.status.busy": "2022-11-20T10:26:06.702099Z",
     "iopub.status.idle": "2022-11-20T10:26:16.319097Z",
     "shell.execute_reply": "2022-11-20T10:26:16.317372Z"
    },
    "papermill": {
     "duration": 9.647089,
     "end_time": "2022-11-20T10:26:16.322669",
     "exception": false,
     "start_time": "2022-11-20T10:26:06.675580",
     "status": "completed"
    },
    "tags": []
   },
   "outputs": [],
   "source": [
    "X_train = convertToSentenceVector(X_train)\n",
    "X_test = convertToSentenceVector(X_test)"
   ]
  },
  {
   "cell_type": "code",
   "execution_count": 21,
   "id": "10b15b34",
   "metadata": {
    "execution": {
     "iopub.execute_input": "2022-11-20T10:26:16.377372Z",
     "iopub.status.busy": "2022-11-20T10:26:16.376782Z",
     "iopub.status.idle": "2022-11-20T10:26:17.738536Z",
     "shell.execute_reply": "2022-11-20T10:26:17.737279Z"
    },
    "papermill": {
     "duration": 1.392751,
     "end_time": "2022-11-20T10:26:17.741616",
     "exception": false,
     "start_time": "2022-11-20T10:26:16.348865",
     "status": "completed"
    },
    "tags": []
   },
   "outputs": [],
   "source": [
    "X_train = pd.DataFrame(X_train)\n",
    "X_test = pd.DataFrame(X_test)"
   ]
  },
  {
   "cell_type": "markdown",
   "id": "c6cbcd9e",
   "metadata": {
    "papermill": {
     "duration": 0.024426,
     "end_time": "2022-11-20T10:26:17.790983",
     "exception": false,
     "start_time": "2022-11-20T10:26:17.766557",
     "status": "completed"
    },
    "tags": []
   },
   "source": [
    "## Artificial Neural Network"
   ]
  },
  {
   "cell_type": "code",
   "execution_count": 22,
   "id": "8ff0bd69",
   "metadata": {
    "execution": {
     "iopub.execute_input": "2022-11-20T10:26:17.843654Z",
     "iopub.status.busy": "2022-11-20T10:26:17.843172Z",
     "iopub.status.idle": "2022-11-20T10:26:17.987328Z",
     "shell.execute_reply": "2022-11-20T10:26:17.986133Z"
    },
    "papermill": {
     "duration": 0.17454,
     "end_time": "2022-11-20T10:26:17.990663",
     "exception": false,
     "start_time": "2022-11-20T10:26:17.816123",
     "status": "completed"
    },
    "tags": []
   },
   "outputs": [
    {
     "name": "stdout",
     "output_type": "stream",
     "text": [
      "Model: \"sequential\"\n",
      "_________________________________________________________________\n",
      "Layer (type)                 Output Shape              Param #   \n",
      "=================================================================\n",
      "dense (Dense)                (None, 100)               5100      \n",
      "_________________________________________________________________\n",
      "dense_1 (Dense)              (None, 1000)              101000    \n",
      "_________________________________________________________________\n",
      "dropout (Dropout)            (None, 1000)              0         \n",
      "_________________________________________________________________\n",
      "dense_2 (Dense)              (None, 1)                 1001      \n",
      "=================================================================\n",
      "Total params: 107,101\n",
      "Trainable params: 107,101\n",
      "Non-trainable params: 0\n",
      "_________________________________________________________________\n"
     ]
    },
    {
     "name": "stderr",
     "output_type": "stream",
     "text": [
      "2022-11-20 10:26:17.883589: I tensorflow/core/common_runtime/process_util.cc:146] Creating new thread pool with default inter op setting: 2. Tune using inter_op_parallelism_threads for best performance.\n"
     ]
    }
   ],
   "source": [
    "model = Sequential()\n",
    "model.add(Dense(100, input_shape = (50,), activation = \"relu\"))\n",
    "model.add(Dense(1000, activation = \"relu\"))\n",
    "model.add(Dropout(0.2))\n",
    "model.add(Dense(1, activation = \"sigmoid\"))\n",
    "model.compile(loss='binary_crossentropy', optimizer='adam', metrics=['accuracy'])\n",
    "model.summary()"
   ]
  },
  {
   "cell_type": "code",
   "execution_count": 23,
   "id": "9987e79b",
   "metadata": {
    "execution": {
     "iopub.execute_input": "2022-11-20T10:26:18.044042Z",
     "iopub.status.busy": "2022-11-20T10:26:18.043551Z",
     "iopub.status.idle": "2022-11-20T10:27:40.817688Z",
     "shell.execute_reply": "2022-11-20T10:27:40.816233Z"
    },
    "papermill": {
     "duration": 82.892122,
     "end_time": "2022-11-20T10:27:40.908288",
     "exception": false,
     "start_time": "2022-11-20T10:26:18.016166",
     "status": "completed"
    },
    "tags": []
   },
   "outputs": [
    {
     "name": "stderr",
     "output_type": "stream",
     "text": [
      "2022-11-20 10:26:18.176383: I tensorflow/compiler/mlir/mlir_graph_optimization_pass.cc:185] None of the MLIR Optimization Passes are enabled (registered 2)\n"
     ]
    },
    {
     "name": "stdout",
     "output_type": "stream",
     "text": [
      "Epoch 1/10\n",
      "1266/1266 [==============================] - 6s 4ms/step - loss: 1.3330 - accuracy: 0.7185 - val_loss: 0.4726 - val_accuracy: 0.7856\n",
      "Epoch 2/10\n",
      "1266/1266 [==============================] - 5s 4ms/step - loss: 0.4936 - accuracy: 0.7722 - val_loss: 0.4731 - val_accuracy: 0.7880\n",
      "Epoch 3/10\n",
      "1266/1266 [==============================] - 6s 5ms/step - loss: 0.4816 - accuracy: 0.7757 - val_loss: 0.4558 - val_accuracy: 0.7927\n",
      "Epoch 4/10\n",
      "1266/1266 [==============================] - 5s 4ms/step - loss: 0.4794 - accuracy: 0.7764 - val_loss: 0.5192 - val_accuracy: 0.7696\n",
      "Epoch 5/10\n",
      "1266/1266 [==============================] - 5s 4ms/step - loss: 0.4732 - accuracy: 0.7803 - val_loss: 0.4573 - val_accuracy: 0.7871\n",
      "Epoch 6/10\n",
      "1266/1266 [==============================] - 5s 4ms/step - loss: 0.4697 - accuracy: 0.7790 - val_loss: 0.4591 - val_accuracy: 0.7964\n",
      "Epoch 7/10\n",
      "1266/1266 [==============================] - 5s 4ms/step - loss: 0.4693 - accuracy: 0.7818 - val_loss: 0.4495 - val_accuracy: 0.7927\n",
      "Epoch 8/10\n",
      "1266/1266 [==============================] - 6s 5ms/step - loss: 0.4632 - accuracy: 0.7819 - val_loss: 0.4687 - val_accuracy: 0.7718\n",
      "Epoch 9/10\n",
      "1266/1266 [==============================] - 5s 4ms/step - loss: 0.4611 - accuracy: 0.7843 - val_loss: 0.4455 - val_accuracy: 0.7953\n",
      "Epoch 10/10\n",
      "1266/1266 [==============================] - 5s 4ms/step - loss: 0.4617 - accuracy: 0.7840 - val_loss: 0.4472 - val_accuracy: 0.7958\n"
     ]
    },
    {
     "data": {
      "text/plain": [
       "<keras.callbacks.History at 0x7f5d16db6f50>"
      ]
     },
     "execution_count": 23,
     "metadata": {},
     "output_type": "execute_result"
    }
   ],
   "source": [
    "model.fit(X_train, y_train, batch_size=32, epochs=10, validation_split=0.1)"
   ]
  },
  {
   "cell_type": "code",
   "execution_count": 24,
   "id": "6f269256",
   "metadata": {
    "execution": {
     "iopub.execute_input": "2022-11-20T10:27:41.084638Z",
     "iopub.status.busy": "2022-11-20T10:27:41.084136Z",
     "iopub.status.idle": "2022-11-20T10:27:41.423729Z",
     "shell.execute_reply": "2022-11-20T10:27:41.422328Z"
    },
    "papermill": {
     "duration": 0.432066,
     "end_time": "2022-11-20T10:27:41.426606",
     "exception": false,
     "start_time": "2022-11-20T10:27:40.994540",
     "status": "completed"
    },
    "tags": []
   },
   "outputs": [],
   "source": [
    "y_pred = model.predict(X_test)\n",
    "y_pred = y_pred.round()"
   ]
  },
  {
   "cell_type": "code",
   "execution_count": 25,
   "id": "970bb1a9",
   "metadata": {
    "execution": {
     "iopub.execute_input": "2022-11-20T10:27:41.607918Z",
     "iopub.status.busy": "2022-11-20T10:27:41.606366Z",
     "iopub.status.idle": "2022-11-20T10:27:41.628649Z",
     "shell.execute_reply": "2022-11-20T10:27:41.627117Z"
    },
    "papermill": {
     "duration": 0.116108,
     "end_time": "2022-11-20T10:27:41.631445",
     "exception": false,
     "start_time": "2022-11-20T10:27:41.515337",
     "status": "completed"
    },
    "tags": []
   },
   "outputs": [
    {
     "name": "stdout",
     "output_type": "stream",
     "text": [
      "              precision    recall  f1-score   support\n",
      "\n",
      "           0       0.82      0.77      0.79      2553\n",
      "           1       0.77      0.82      0.80      2447\n",
      "\n",
      "    accuracy                           0.80      5000\n",
      "   macro avg       0.80      0.80      0.80      5000\n",
      "weighted avg       0.80      0.80      0.80      5000\n",
      "\n"
     ]
    }
   ],
   "source": [
    "print(classification_report(y_test, y_pred))"
   ]
  },
  {
   "cell_type": "markdown",
   "id": "53885ee9",
   "metadata": {
    "papermill": {
     "duration": 0.088863,
     "end_time": "2022-11-20T10:27:41.810554",
     "exception": false,
     "start_time": "2022-11-20T10:27:41.721691",
     "status": "completed"
    },
    "tags": []
   },
   "source": [
    "The classification report produced by the artificial neural network is not very good because the ANN doesn't work well with sequential data. To get a better result, we will now use a Bi-directional Long Short-Term Memory (LSTM) network on the same dataset. A Bi-directional LSTM is a type of recurrent neural network and can handle inputs of varying sizes."
   ]
  },
  {
   "cell_type": "markdown",
   "id": "262d5110",
   "metadata": {
    "papermill": {
     "duration": 0.08777,
     "end_time": "2022-11-20T10:27:41.986599",
     "exception": false,
     "start_time": "2022-11-20T10:27:41.898829",
     "status": "completed"
    },
    "tags": []
   },
   "source": [
    "## Bi-directional LSTM"
   ]
  },
  {
   "cell_type": "code",
   "execution_count": 26,
   "id": "324dd152",
   "metadata": {
    "execution": {
     "iopub.execute_input": "2022-11-20T10:27:42.167217Z",
     "iopub.status.busy": "2022-11-20T10:27:42.166433Z",
     "iopub.status.idle": "2022-11-20T10:27:42.179973Z",
     "shell.execute_reply": "2022-11-20T10:27:42.178725Z"
    },
    "papermill": {
     "duration": 0.107925,
     "end_time": "2022-11-20T10:27:42.182806",
     "exception": false,
     "start_time": "2022-11-20T10:27:42.074881",
     "status": "completed"
    },
    "tags": []
   },
   "outputs": [],
   "source": [
    "X_train, X_test, y_train, y_test = train_test_split(X, y, test_size=0.10, random_state=0)"
   ]
  },
  {
   "cell_type": "code",
   "execution_count": 27,
   "id": "fe14d42f",
   "metadata": {
    "execution": {
     "iopub.execute_input": "2022-11-20T10:27:42.364491Z",
     "iopub.status.busy": "2022-11-20T10:27:42.363415Z",
     "iopub.status.idle": "2022-11-20T10:27:42.368906Z",
     "shell.execute_reply": "2022-11-20T10:27:42.367972Z"
    },
    "papermill": {
     "duration": 0.097742,
     "end_time": "2022-11-20T10:27:42.371129",
     "exception": false,
     "start_time": "2022-11-20T10:27:42.273387",
     "status": "completed"
    },
    "tags": []
   },
   "outputs": [],
   "source": [
    "max_number_of_words = 50000\n",
    "max_length = 100"
   ]
  },
  {
   "cell_type": "code",
   "execution_count": 28,
   "id": "78094a98",
   "metadata": {
    "execution": {
     "iopub.execute_input": "2022-11-20T10:27:42.555318Z",
     "iopub.status.busy": "2022-11-20T10:27:42.554608Z",
     "iopub.status.idle": "2022-11-20T10:28:02.496810Z",
     "shell.execute_reply": "2022-11-20T10:28:02.495841Z"
    },
    "papermill": {
     "duration": 20.038811,
     "end_time": "2022-11-20T10:28:02.499509",
     "exception": false,
     "start_time": "2022-11-20T10:27:42.460698",
     "status": "completed"
    },
    "tags": []
   },
   "outputs": [],
   "source": [
    "tokenizer = Tokenizer(num_words=max_number_of_words)\n",
    "tokenizer.fit_on_texts(X_train)\n",
    "X_train = tokenizer.texts_to_sequences(X_train)\n",
    "X_test = tokenizer.texts_to_sequences(X_test)\n",
    "X_train = pad_sequences(X_train, maxlen=max_length)\n",
    "X_test = pad_sequences(X_test, maxlen=max_length)"
   ]
  },
  {
   "cell_type": "code",
   "execution_count": 29,
   "id": "7711c92d",
   "metadata": {
    "execution": {
     "iopub.execute_input": "2022-11-20T10:28:02.674294Z",
     "iopub.status.busy": "2022-11-20T10:28:02.673834Z",
     "iopub.status.idle": "2022-11-20T10:28:02.779801Z",
     "shell.execute_reply": "2022-11-20T10:28:02.778598Z"
    },
    "papermill": {
     "duration": 0.197081,
     "end_time": "2022-11-20T10:28:02.782832",
     "exception": false,
     "start_time": "2022-11-20T10:28:02.585751",
     "status": "completed"
    },
    "tags": []
   },
   "outputs": [],
   "source": [
    "total_number_of_words = min(max_number_of_words, len(tokenizer.word_index))\n",
    "embedding_matrix = np.zeros((total_number_of_words+1,50))\n",
    "for word, i in tokenizer.word_index.items():\n",
    "    if i >= total_number_of_words: break\n",
    "    if word in embedding_dictionary.keys():\n",
    "        embedding_vector = embedding_dictionary[word]\n",
    "        embedding_matrix[i] = embedding_vector"
   ]
  },
  {
   "cell_type": "code",
   "execution_count": 30,
   "id": "04b9c9d5",
   "metadata": {
    "execution": {
     "iopub.execute_input": "2022-11-20T10:28:02.963051Z",
     "iopub.status.busy": "2022-11-20T10:28:02.962338Z",
     "iopub.status.idle": "2022-11-20T10:28:03.314916Z",
     "shell.execute_reply": "2022-11-20T10:28:03.313135Z"
    },
    "papermill": {
     "duration": 0.445126,
     "end_time": "2022-11-20T10:28:03.317675",
     "exception": false,
     "start_time": "2022-11-20T10:28:02.872549",
     "status": "completed"
    },
    "tags": []
   },
   "outputs": [
    {
     "name": "stdout",
     "output_type": "stream",
     "text": [
      "Model: \"sequential_1\"\n",
      "_________________________________________________________________\n",
      "Layer (type)                 Output Shape              Param #   \n",
      "=================================================================\n",
      "embedding (Embedding)        (None, 100, 50)           2500050   \n",
      "_________________________________________________________________\n",
      "bidirectional (Bidirectional (None, 100, 100)          40400     \n",
      "_________________________________________________________________\n",
      "global_max_pooling1d (Global (None, 100)               0         \n",
      "_________________________________________________________________\n",
      "dense_3 (Dense)              (None, 50)                5050      \n",
      "_________________________________________________________________\n",
      "dropout_1 (Dropout)          (None, 50)                0         \n",
      "_________________________________________________________________\n",
      "dense_4 (Dense)              (None, 1)                 51        \n",
      "=================================================================\n",
      "Total params: 2,545,551\n",
      "Trainable params: 2,545,551\n",
      "Non-trainable params: 0\n",
      "_________________________________________________________________\n"
     ]
    }
   ],
   "source": [
    "model = Sequential()\n",
    "model.add(Embedding(max_number_of_words+1, 50, input_shape = (100,), weights=[embedding_matrix]))\n",
    "model.add(Bidirectional(LSTM(50, return_sequences=True, dropout=0.1, recurrent_dropout=0.1)))\n",
    "model.add(GlobalMaxPool1D())\n",
    "model.add(Dense(50, activation=\"relu\"))\n",
    "model.add(Dropout(0.1))\n",
    "model.add(Dense(1, activation=\"sigmoid\"))\n",
    "\n",
    "model.compile(loss='binary_crossentropy', optimizer='adam', metrics=['accuracy'])\n",
    "model.summary()"
   ]
  },
  {
   "cell_type": "code",
   "execution_count": 31,
   "id": "3ab63667",
   "metadata": {
    "execution": {
     "iopub.execute_input": "2022-11-20T10:28:03.499833Z",
     "iopub.status.busy": "2022-11-20T10:28:03.499186Z",
     "iopub.status.idle": "2022-11-20T12:42:15.505610Z",
     "shell.execute_reply": "2022-11-20T12:42:15.504339Z"
    },
    "papermill": {
     "duration": 8052.101013,
     "end_time": "2022-11-20T12:42:15.508098",
     "exception": false,
     "start_time": "2022-11-20T10:28:03.407085",
     "status": "completed"
    },
    "tags": []
   },
   "outputs": [
    {
     "name": "stdout",
     "output_type": "stream",
     "text": [
      "Epoch 1/10\n",
      "1266/1266 [==============================] - 821s 643ms/step - loss: 0.4098 - accuracy: 0.8048 - val_loss: 0.3022 - val_accuracy: 0.8696\n",
      "Epoch 2/10\n",
      "1266/1266 [==============================] - 802s 633ms/step - loss: 0.2637 - accuracy: 0.8909 - val_loss: 0.2770 - val_accuracy: 0.8798\n",
      "Epoch 3/10\n",
      "1266/1266 [==============================] - 812s 641ms/step - loss: 0.1860 - accuracy: 0.9281 - val_loss: 0.2918 - val_accuracy: 0.8811\n",
      "Epoch 4/10\n",
      "1266/1266 [==============================] - 801s 633ms/step - loss: 0.1176 - accuracy: 0.9582 - val_loss: 0.3311 - val_accuracy: 0.8780\n",
      "Epoch 5/10\n",
      "1266/1266 [==============================] - 802s 633ms/step - loss: 0.0704 - accuracy: 0.9769 - val_loss: 0.4328 - val_accuracy: 0.8678\n",
      "Epoch 6/10\n",
      "1266/1266 [==============================] - 804s 635ms/step - loss: 0.0407 - accuracy: 0.9876 - val_loss: 0.5114 - val_accuracy: 0.8664\n",
      "Epoch 7/10\n",
      "1266/1266 [==============================] - 804s 635ms/step - loss: 0.0238 - accuracy: 0.9925 - val_loss: 0.6693 - val_accuracy: 0.8584\n",
      "Epoch 8/10\n",
      "1266/1266 [==============================] - 804s 635ms/step - loss: 0.0154 - accuracy: 0.9952 - val_loss: 0.7342 - val_accuracy: 0.8638\n",
      "Epoch 9/10\n",
      "1266/1266 [==============================] - 802s 633ms/step - loss: 0.0108 - accuracy: 0.9962 - val_loss: 0.8066 - val_accuracy: 0.8589\n",
      "Epoch 10/10\n",
      "1266/1266 [==============================] - 801s 633ms/step - loss: 0.0086 - accuracy: 0.9966 - val_loss: 0.8863 - val_accuracy: 0.8553\n"
     ]
    }
   ],
   "source": [
    "model.fit(X_train, y_train, batch_size=32, epochs=10, validation_split=0.1);"
   ]
  },
  {
   "cell_type": "code",
   "execution_count": 32,
   "id": "a16f43c1",
   "metadata": {
    "execution": {
     "iopub.execute_input": "2022-11-20T12:42:17.390330Z",
     "iopub.status.busy": "2022-11-20T12:42:17.389863Z",
     "iopub.status.idle": "2022-11-20T12:42:40.551870Z",
     "shell.execute_reply": "2022-11-20T12:42:40.550779Z"
    },
    "papermill": {
     "duration": 24.036989,
     "end_time": "2022-11-20T12:42:40.554944",
     "exception": false,
     "start_time": "2022-11-20T12:42:16.517955",
     "status": "completed"
    },
    "tags": []
   },
   "outputs": [],
   "source": [
    "y_pred = model.predict(X_test)\n",
    "y_pred = y_pred.round()"
   ]
  },
  {
   "cell_type": "code",
   "execution_count": 33,
   "id": "a033d511",
   "metadata": {
    "execution": {
     "iopub.execute_input": "2022-11-20T12:42:42.404572Z",
     "iopub.status.busy": "2022-11-20T12:42:42.404030Z",
     "iopub.status.idle": "2022-11-20T12:42:42.426162Z",
     "shell.execute_reply": "2022-11-20T12:42:42.424786Z"
    },
    "papermill": {
     "duration": 0.900644,
     "end_time": "2022-11-20T12:42:42.428377",
     "exception": false,
     "start_time": "2022-11-20T12:42:41.527733",
     "status": "completed"
    },
    "tags": []
   },
   "outputs": [
    {
     "name": "stdout",
     "output_type": "stream",
     "text": [
      "              precision    recall  f1-score   support\n",
      "\n",
      "           0       0.87      0.83      0.85      2553\n",
      "           1       0.83      0.87      0.85      2447\n",
      "\n",
      "    accuracy                           0.85      5000\n",
      "   macro avg       0.85      0.85      0.85      5000\n",
      "weighted avg       0.85      0.85      0.85      5000\n",
      "\n"
     ]
    }
   ],
   "source": [
    "print(classification_report(y_test, y_pred))"
   ]
  },
  {
   "cell_type": "markdown",
   "id": "5cbf49e0",
   "metadata": {
    "papermill": {
     "duration": 0.863759,
     "end_time": "2022-11-20T12:42:44.248682",
     "exception": false,
     "start_time": "2022-11-20T12:42:43.384923",
     "status": "completed"
    },
    "tags": []
   },
   "source": [
    "Woohoo! We got a better classification report.<br> \n",
    "Now that you are more knowledgeable about GloVe embedding, you are ready to apply it to different NLP issues."
   ]
  },
  {
   "cell_type": "code",
   "execution_count": null,
   "id": "364184d7",
   "metadata": {
    "papermill": {
     "duration": 0.864367,
     "end_time": "2022-11-20T12:42:46.084070",
     "exception": false,
     "start_time": "2022-11-20T12:42:45.219703",
     "status": "completed"
    },
    "tags": []
   },
   "outputs": [],
   "source": []
  }
 ],
 "metadata": {
  "kernelspec": {
   "display_name": "Python 3",
   "language": "python",
   "name": "python3"
  },
  "language_info": {
   "codemirror_mode": {
    "name": "ipython",
    "version": 3
   },
   "file_extension": ".py",
   "mimetype": "text/x-python",
   "name": "python",
   "nbconvert_exporter": "python",
   "pygments_lexer": "ipython3",
   "version": "3.7.12"
  },
  "papermill": {
   "default_parameters": {},
   "duration": 8275.740469,
   "end_time": "2022-11-20T12:42:49.821529",
   "environment_variables": {},
   "exception": null,
   "input_path": "__notebook__.ipynb",
   "output_path": "__notebook__.ipynb",
   "parameters": {},
   "start_time": "2022-11-20T10:24:54.081060",
   "version": "2.3.4"
  }
 },
 "nbformat": 4,
 "nbformat_minor": 5
}
